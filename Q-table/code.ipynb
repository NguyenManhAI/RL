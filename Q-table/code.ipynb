{
 "cells": [
  {
   "cell_type": "code",
   "execution_count": null,
   "metadata": {},
   "outputs": [],
   "source": [
    "'''\n",
    "object: Agent -> kế thừa người chơi tictactoe\n",
    "Các phương thức:\n",
    "    train: học ra quyết định tối ưu\n",
    "    predict: ra quyết định dựa trên trạng thái hiện tại\n",
    "object: TicTacToe: \n",
    "    Quản lý bảng:\n",
    "        + trạng thái bảng hiện tại\n",
    "        + kiểm tra trạng thái kết thúc trò chơi\n",
    "        + trả điểm về một trạng thái\n",
    "    Quản lý người chơi:\n",
    "        + phân công người chơi tiếp theo\n",
    "object: người chơi tictactoe:\n",
    "    predict: ra quyết định dựa trên trạng thái hiện tại\n",
    "'''"
   ]
  },
  {
   "cell_type": "code",
   "execution_count": null,
   "metadata": {},
   "outputs": [],
   "source": [
    "import numpy as np"
   ]
  },
  {
   "cell_type": "code",
   "execution_count": 6,
   "metadata": {},
   "outputs": [],
   "source": [
    "class TicTacToe:\n",
    "    def __init__(self) -> None:\n",
    "        '''\n",
    "        board: X = 1, O = -1, - = 0\n",
    "        '''\n",
    "        pass\n",
    "\n",
    "    def get_init_board(size):\n",
    "        return np.full((size,size), '-')\n",
    "    \n",
    "    def get_isStateTermial_score_board(self, board):\n",
    "        '''\n",
    "            input: board: np.array\n",
    "            output: (isTerminalState, Score)\n",
    "        '''\n",
    "        # check Terminal State:\n",
    "        # check rows:\n",
    "        for row in board:\n",
    "            if len(set(row)) == 1 and row[0] != 0:\n",
    "                return True, row[0]\n",
    "                \n",
    "        # check columns:\n",
    "        for col in np.transpose(board):\n",
    "            if len(set(col)) == 1 and col[0] != 0:\n",
    "                return True, col[0]\n",
    "            \n",
    "        # Check diagonals\n",
    "        if len(set(board.diagonal())) == 1 and board[0, 0] != 0:#check all elements in main diagonal are same and non empty\n",
    "            return True, board[0, 0]\n",
    "        if len(set(np.fliplr(board).diagonal())) == 1 and board[0, -1] != 0: #horizontal flip the board and check...\n",
    "            return True, board[0, -1]\n",
    "        \n",
    "        # Check if the board is full\n",
    "        if 0 not in board:\n",
    "            return True, 0\n",
    "\n",
    "        return False, 0\n",
    "    \n",
    "    def get_next_player(self, board):\n",
    "        '''\n",
    "        Determine next player based on the sum of all values in the board\n",
    "        If you want to determine next player when the board change continuously, you shouldn't use this function\n",
    "        '''\n",
    "        isStateTermial, score = self.get_state_score_board(board)\n",
    "        nextPlayer = None\n",
    "        if not isStateTermial:\n",
    "            board_sum = board.sum()\n",
    "            if board_sum == 0: # X == O -> nextplayer = X\n",
    "                nextPlayer = 1\n",
    "            elif board_sum == 1: # X > 0 -> nextplayer = O\n",
    "                nextPlayer = -1\n",
    "\n",
    "        return nextPlayer\n"
   ]
  },
  {
   "cell_type": "code",
   "execution_count": null,
   "metadata": {},
   "outputs": [],
   "source": []
  }
 ],
 "metadata": {
  "kernelspec": {
   "display_name": "manhtms1",
   "language": "python",
   "name": "python3"
  },
  "language_info": {
   "codemirror_mode": {
    "name": "ipython",
    "version": 3
   },
   "file_extension": ".py",
   "mimetype": "text/x-python",
   "name": "python",
   "nbconvert_exporter": "python",
   "pygments_lexer": "ipython3",
   "version": "3.10.10"
  }
 },
 "nbformat": 4,
 "nbformat_minor": 2
}
